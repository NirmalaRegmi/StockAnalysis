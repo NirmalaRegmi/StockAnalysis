{
 "cells": [
  {
   "cell_type": "markdown",
   "metadata": {
    "application/vnd.databricks.v1+cell": {
     "cellMetadata": {
      "byteLimit": 2048000,
      "rowLimit": 10000
     },
     "inputWidgets": {},
     "nuid": "40b1e678-b1ba-476d-b466-40efe8ea3699",
     "showTitle": false,
     "tableResultSettingsMap": {},
     "title": ""
    }
   },
   "source": [
    "**Step 1: Set Up Kafka for Streaming Stock Data**"
   ]
  },
  {
   "cell_type": "markdown",
   "metadata": {
    "application/vnd.databricks.v1+cell": {
     "cellMetadata": {
      "byteLimit": 2048000,
      "rowLimit": 10000
     },
     "inputWidgets": {},
     "nuid": "f8047203-d387-4656-aa75-72b9ea4760d1",
     "showTitle": false,
     "tableResultSettingsMap": {},
     "title": ""
    }
   },
   "source": [
    "### **Installing confluent-kafka**"
   ]
  },
  {
   "cell_type": "code",
   "execution_count": 0,
   "metadata": {
    "application/vnd.databricks.v1+cell": {
     "cellMetadata": {
      "byteLimit": 2048000,
      "rowLimit": 10000
     },
     "inputWidgets": {},
     "nuid": "1dbdc15d-2264-4553-961f-758f87336717",
     "showTitle": false,
     "tableResultSettingsMap": {},
     "title": ""
    }
   },
   "outputs": [
    {
     "output_type": "stream",
     "name": "stdout",
     "output_type": "stream",
     "text": [
      "Requirement already satisfied: confluent-kafka in /local_disk0/.ephemeral_nfs/envs/pythonEnv-c035a031-722e-47a8-a70d-4e6673d7a35a/lib/python3.9/site-packages (2.6.1)\r\n"
     ]
    }
   ],
   "source": [
    "!pip install confluent-kafka\n"
   ]
  },
  {
   "cell_type": "code",
   "execution_count": 0,
   "metadata": {
    "application/vnd.databricks.v1+cell": {
     "cellMetadata": {
      "byteLimit": 2048000,
      "rowLimit": 10000
     },
     "inputWidgets": {},
     "nuid": "ca243bf9-7d02-49aa-9921-39cb8208bb68",
     "showTitle": false,
     "tableResultSettingsMap": {},
     "title": ""
    }
   },
   "outputs": [
    {
     "output_type": "stream",
     "name": "stdout",
     "output_type": "stream",
     "text": [
      "Python interpreter will be restarted.\nRequirement already satisfied: pip in /local_disk0/.ephemeral_nfs/envs/pythonEnv-c035a031-722e-47a8-a70d-4e6673d7a35a/lib/python3.9/site-packages (24.3.1)\nPython interpreter will be restarted.\n"
     ]
    }
   ],
   "source": [
    "%pip install --upgrade pip\n"
   ]
  },
  {
   "cell_type": "markdown",
   "metadata": {
    "application/vnd.databricks.v1+cell": {
     "cellMetadata": {
      "byteLimit": 2048000,
      "rowLimit": 10000
     },
     "inputWidgets": {},
     "nuid": "343d4d60-5a25-4ab1-aca3-acfbabcba835",
     "showTitle": false,
     "tableResultSettingsMap": {},
     "title": ""
    }
   },
   "source": [
    "**1. Importing Necessary Libraries and Setting Configuration**"
   ]
  },
  {
   "cell_type": "code",
   "execution_count": 0,
   "metadata": {
    "application/vnd.databricks.v1+cell": {
     "cellMetadata": {
      "byteLimit": 2048000,
      "rowLimit": 10000
     },
     "inputWidgets": {},
     "nuid": "bd85c98e-6b01-4ad6-98a2-1436af7f445d",
     "showTitle": false,
     "tableResultSettingsMap": {},
     "title": ""
    }
   },
   "outputs": [],
   "source": [
    "import json\n",
    "import time\n",
    "from datetime import datetime, timedelta\n",
    "import random\n",
    "from confluent_kafka import Producer\n",
    "\n",
    "# Kafka configuration\n",
    "conf = {\n",
    "    'bootstrap.servers': 'pkc-619z3.us-east1.gcp.confluent.cloud:9092',  \n",
    "    'security.protocol': 'SASL_SSL',\n",
    "    'sasl.mechanisms': 'PLAIN',\n",
    "    'sasl.username': 'O3LJJAT5NL2RRB6G',  \n",
    "    'sasl.password': 'wTc8QOLiu7ZU5PEXIUNB2BlHp23S5LLEJnOBbK4TeRWGjYVsDFHeN9RPYD8WN/Oo', \n",
    "}\n"
   ]
  },
  {
   "cell_type": "markdown",
   "metadata": {
    "application/vnd.databricks.v1+cell": {
     "cellMetadata": {
      "byteLimit": 2048000,
      "rowLimit": 10000
     },
     "inputWidgets": {},
     "nuid": "0595f20e-bb5c-4c6f-8fd7-c926f5e51e70",
     "showTitle": false,
     "tableResultSettingsMap": {},
     "title": ""
    }
   },
   "source": [
    "**2. Kafka Producer Setup:**"
   ]
  },
  {
   "cell_type": "code",
   "execution_count": 0,
   "metadata": {
    "application/vnd.databricks.v1+cell": {
     "cellMetadata": {
      "byteLimit": 2048000,
      "rowLimit": 10000
     },
     "inputWidgets": {},
     "nuid": "c81662b3-add3-4cfd-ba6a-3948c06252d4",
     "showTitle": false,
     "tableResultSettingsMap": {},
     "title": ""
    }
   },
   "outputs": [],
   "source": [
    "\n",
    "# Initialize Kafka Producer\n",
    "producer = Producer(conf)\n",
    "\n",
    "# Kafka topic\n",
    "topic = 'stock'  # The topic name"
   ]
  },
  {
   "cell_type": "markdown",
   "metadata": {
    "application/vnd.databricks.v1+cell": {
     "cellMetadata": {
      "byteLimit": 2048000,
      "rowLimit": 10000
     },
     "inputWidgets": {},
     "nuid": "299857c6-c68e-436a-b00c-23fbb262835b",
     "showTitle": false,
     "tableResultSettingsMap": {},
     "title": ""
    }
   },
   "source": [
    "**Set Up PySpark Streaming in Databricks**"
   ]
  },
  {
   "cell_type": "markdown",
   "metadata": {
    "application/vnd.databricks.v1+cell": {
     "cellMetadata": {
      "byteLimit": 2048000,
      "rowLimit": 10000
     },
     "inputWidgets": {},
     "nuid": "34479414-0fa1-4d51-a731-cebf6d617e29",
     "showTitle": false,
     "tableResultSettingsMap": {},
     "title": ""
    }
   },
   "source": [
    "**1. Import necessary libraries**"
   ]
  },
  {
   "cell_type": "code",
   "execution_count": 0,
   "metadata": {
    "application/vnd.databricks.v1+cell": {
     "cellMetadata": {
      "byteLimit": 2048000,
      "rowLimit": 10000
     },
     "inputWidgets": {},
     "nuid": "05da1c55-49ea-4a82-a203-d57fed566e6a",
     "showTitle": false,
     "tableResultSettingsMap": {},
     "title": ""
    }
   },
   "outputs": [],
   "source": [
    "\n",
    "%python\n",
    "# Import necessary libraries\n",
    "from pyspark.sql import SparkSession\n",
    "from pyspark.streaming import StreamingContext\n",
    "from pyspark.sql.functions import col, window, avg\n",
    "from pyspark.sql.types import StructType, StructField, StringType, FloatType, TimestampType\n",
    "\n"
   ]
  },
  {
   "cell_type": "markdown",
   "metadata": {
    "application/vnd.databricks.v1+cell": {
     "cellMetadata": {
      "byteLimit": 2048000,
      "rowLimit": 10000
     },
     "inputWidgets": {},
     "nuid": "33291fc2-c813-4126-8329-8b67a8c95a6b",
     "showTitle": false,
     "tableResultSettingsMap": {},
     "title": ""
    }
   },
   "source": [
    "**2. Configure Spark Session for Kafka:**"
   ]
  },
  {
   "cell_type": "code",
   "execution_count": 0,
   "metadata": {
    "application/vnd.databricks.v1+cell": {
     "cellMetadata": {
      "byteLimit": 2048000,
      "rowLimit": 10000
     },
     "inputWidgets": {},
     "nuid": "14a69414-c79b-4378-bba7-103ed866bb00",
     "showTitle": false,
     "tableResultSettingsMap": {},
     "title": ""
    }
   },
   "outputs": [],
   "source": [
    "from pyspark.sql import SparkSession\n",
    "from pyspark.sql.functions import col, window, avg, max, min\n",
    "\n",
    "# Initialize Spark session\n",
    "spark = SparkSession.builder \\\n",
    "    .appName(\"Real-Time Stock Price Analysis\") \\\n",
    "    .getOrCreate()\n",
    "\n",
    "\n",
    "\n",
    "\n"
   ]
  },
  {
   "cell_type": "markdown",
   "metadata": {
    "application/vnd.databricks.v1+cell": {
     "cellMetadata": {
      "byteLimit": 2048000,
      "rowLimit": 10000
     },
     "inputWidgets": {},
     "nuid": "081c3ae7-4bca-4975-a4ec-5e8036fe555b",
     "showTitle": false,
     "tableResultSettingsMap": {},
     "title": ""
    }
   },
   "source": [
    "**Step 3: Define Schema for Stock Price Data**"
   ]
  },
  {
   "cell_type": "code",
   "execution_count": 0,
   "metadata": {
    "application/vnd.databricks.v1+cell": {
     "cellMetadata": {
      "byteLimit": 2048000,
      "rowLimit": 10000
     },
     "inputWidgets": {},
     "nuid": "2f15891b-2edc-4a3a-a1de-32b5c9ed6509",
     "showTitle": false,
     "tableResultSettingsMap": {},
     "title": ""
    }
   },
   "outputs": [],
   "source": [
    "from pyspark.sql.types import StructType, StructField, StringType, FloatType, TimestampType, IntegerType\n",
    "\n",
    "# Define schema with ticker, price, timestamp, and volume\n",
    "schema = StructType([\n",
    "    StructField(\"ticker\", StringType(), True),\n",
    "    StructField(\"price\", FloatType(), True),\n",
    "    StructField(\"timestamp\", TimestampType(), True),\n",
    "    StructField(\"volume\", IntegerType(), True) \n",
    "])\n",
    "\n"
   ]
  },
  {
   "cell_type": "markdown",
   "metadata": {
    "application/vnd.databricks.v1+cell": {
     "cellMetadata": {
      "byteLimit": 2048000,
      "rowLimit": 10000
     },
     "inputWidgets": {},
     "nuid": "bf67bac5-9c66-4c87-a150-736b91335668",
     "showTitle": false,
     "tableResultSettingsMap": {},
     "title": ""
    }
   },
   "source": [
    "**Step 4: Read Data from Kafka**"
   ]
  },
  {
   "cell_type": "code",
   "execution_count": 0,
   "metadata": {
    "application/vnd.databricks.v1+cell": {
     "cellMetadata": {
      "byteLimit": 2048000,
      "rowLimit": 10000
     },
     "inputWidgets": {},
     "nuid": "3259500a-ca91-4c1f-8669-a54178cbd3c3",
     "showTitle": false,
     "tableResultSettingsMap": {},
     "title": ""
    }
   },
   "outputs": [],
   "source": [
    "kafka_stream_df = spark \\\n",
    "    .readStream \\\n",
    "    .format(\"kafka\") \\\n",
    "    .option(\"kafka.bootstrap.servers\", \"pkc-619z3.us-east1.gcp.confluent.cloud:9092\") \\\n",
    "    .option(\"subscribe\", \"stock\") \\\n",
    "    .load()\n"
   ]
  },
  {
   "cell_type": "code",
   "execution_count": 0,
   "metadata": {
    "application/vnd.databricks.v1+cell": {
     "cellMetadata": {
      "byteLimit": 2048000,
      "rowLimit": 10000
     },
     "inputWidgets": {},
     "nuid": "2aa33850-4955-4503-9338-858e53718347",
     "showTitle": false,
     "tableResultSettingsMap": {},
     "title": ""
    }
   },
   "outputs": [],
   "source": [
    "stock_df = kafka_stream_df \\\n",
    "    .selectExpr(\"CAST(value AS STRING)\") \\\n",
    "    .select(\"value\") \\\n",
    "    .selectExpr(\"json_tuple(value, 'ticker', 'price', 'timestamp') as (ticker, price, timestamp)\") \\\n",
    "    .withColumn(\"timestamp\", col(\"timestamp\").cast(TimestampType())) \\\n",
    "    .withColumn(\"price\", col(\"price\").cast(FloatType()))\n"
   ]
  },
  {
   "cell_type": "code",
   "execution_count": 0,
   "metadata": {
    "application/vnd.databricks.v1+cell": {
     "cellMetadata": {
      "byteLimit": 2048000,
      "rowLimit": 10000
     },
     "inputWidgets": {},
     "nuid": "0bfa3b89-16aa-4852-8524-f8b675476506",
     "showTitle": false,
     "tableResultSettingsMap": {},
     "title": ""
    }
   },
   "outputs": [],
   "source": [
    "stock_stream = spark.readStream \\\n",
    "    .format(\"kafka\") \\\n",
    "    .option(\"kafka.bootstrap.servers\", \"pkc-619z3.us-east1.gcp.confluent.cloud:9092\") \\\n",
    "    .option(\"subscribe\", \"stock\") \\\n",
    "    .option(\"startingOffsets\", \"earliest\") \\\n",
    "    .load()\n",
    "\n",
    "# Deserialize Kafka value and parse JSON\n",
    "from pyspark.sql.functions import from_json, col\n",
    "\n",
    "parsed_stream = stock_stream.select(\n",
    "    from_json(col(\"value\").cast(\"string\"), schema).alias(\"data\")\n",
    ").select(\"data.*\")\n"
   ]
  },
  {
   "cell_type": "code",
   "execution_count": 0,
   "metadata": {
    "application/vnd.databricks.v1+cell": {
     "cellMetadata": {
      "byteLimit": 2048000,
      "rowLimit": 10000
     },
     "inputWidgets": {},
     "nuid": "5df1c43b-2dd8-4146-86be-0ca28188ba06",
     "showTitle": false,
     "tableResultSettingsMap": {},
     "title": ""
    }
   },
   "outputs": [
    {
     "output_type": "display_data",
     "data": {
      "text/html": [
       "<style scoped>\n",
       "  .ansiout {\n",
       "    display: block;\n",
       "    unicode-bidi: embed;\n",
       "    white-space: pre-wrap;\n",
       "    word-wrap: break-word;\n",
       "    word-break: break-all;\n",
       "    font-family: \"Menlo\", \"Monaco\", \"Consolas\", \"Ubuntu Mono\", \"Source Code Pro\", monospace;\n",
       "    font-size: 13px;\n",
       "    color: #555;\n",
       "    margin-left: 4px;\n",
       "    line-height: 19px;\n",
       "  }\n",
       "</style>"
      ]
     },
     "metadata": {
      "application/vnd.databricks.v1+output": {
       "arguments": {},
       "data": "",
       "errorSummary": "Cancelled",
       "errorTraceType": "html",
       "metadata": {},
       "type": "ipynbError"
      }
     },
     "output_type": "display_data"
    }
   ],
   "source": [
    "# Get the status of the running streaming query\n",
    "query = parsed_stream.writeStream \\\n",
    "                     .format(\"delta\") \\\n",
    "                     .outputMode(\"append\") \\\n",
    "                     .option(\"checkpointLocation\", \"/mnt/checkpoints/stock_value\") \\\n",
    "                     .start(\"/mnt/checkpoints/stock_value\")\n",
    "\n",
    "# Monitor the stream query status (real-time data)\n",
    "query.status \n"
   ]
  },
  {
   "cell_type": "code",
   "execution_count": 0,
   "metadata": {
    "application/vnd.databricks.v1+cell": {
     "cellMetadata": {
      "byteLimit": 2048000,
      "rowLimit": 10000
     },
     "inputWidgets": {},
     "nuid": "3c4e4092-f2bd-4deb-a8d8-e96ccfe0c17c",
     "showTitle": false,
     "tableResultSettingsMap": {},
     "title": ""
    }
   },
   "outputs": [
    {
     "output_type": "display_data",
     "data": {
      "text/plain": [
       "\u001B[0;31m---------------------------------------------------------------------------\u001B[0m\n",
       "\u001B[0;31mNameError\u001B[0m                                 Traceback (most recent call last)\n",
       "File \u001B[0;32m<command-2239590077227200>:4\u001B[0m\n",
       "\u001B[1;32m      1\u001B[0m \u001B[38;5;66;03m# Monitor the streaming query status\u001B[39;00m\n",
       "\u001B[1;32m      2\u001B[0m \u001B[38;5;28;01mimport\u001B[39;00m \u001B[38;5;21;01mtime\u001B[39;00m\n",
       "\u001B[0;32m----> 4\u001B[0m \u001B[38;5;28;01mwhile\u001B[39;00m query\u001B[38;5;241m.\u001B[39misActive:\n",
       "\u001B[1;32m      5\u001B[0m     \u001B[38;5;28mprint\u001B[39m(query\u001B[38;5;241m.\u001B[39mstatus)  \u001B[38;5;66;03m# Print the status of the query\u001B[39;00m\n",
       "\u001B[1;32m      6\u001B[0m     time\u001B[38;5;241m.\u001B[39msleep(\u001B[38;5;241m5\u001B[39m)  \u001B[38;5;66;03m# Wait for 5 seconds before checking again\u001B[39;00m\n",
       "\n",
       "\u001B[0;31mNameError\u001B[0m: name 'query' is not defined"
      ]
     },
     "metadata": {
      "application/vnd.databricks.v1+output": {
       "arguments": {},
       "data": "\u001B[0;31m---------------------------------------------------------------------------\u001B[0m\n\u001B[0;31mNameError\u001B[0m                                 Traceback (most recent call last)\nFile \u001B[0;32m<command-2239590077227200>:4\u001B[0m\n\u001B[1;32m      1\u001B[0m \u001B[38;5;66;03m# Monitor the streaming query status\u001B[39;00m\n\u001B[1;32m      2\u001B[0m \u001B[38;5;28;01mimport\u001B[39;00m \u001B[38;5;21;01mtime\u001B[39;00m\n\u001B[0;32m----> 4\u001B[0m \u001B[38;5;28;01mwhile\u001B[39;00m query\u001B[38;5;241m.\u001B[39misActive:\n\u001B[1;32m      5\u001B[0m     \u001B[38;5;28mprint\u001B[39m(query\u001B[38;5;241m.\u001B[39mstatus)  \u001B[38;5;66;03m# Print the status of the query\u001B[39;00m\n\u001B[1;32m      6\u001B[0m     time\u001B[38;5;241m.\u001B[39msleep(\u001B[38;5;241m5\u001B[39m)  \u001B[38;5;66;03m# Wait for 5 seconds before checking again\u001B[39;00m\n\n\u001B[0;31mNameError\u001B[0m: name 'query' is not defined",
       "errorSummary": "<span class='ansi-red-fg'>NameError</span>: name 'query' is not defined",
       "errorTraceType": "ansi",
       "metadata": {},
       "type": "ipynbError"
      }
     },
     "output_type": "display_data"
    }
   ],
   "source": [
    "# Monitor the streaming query status\n",
    "import time\n",
    "\n",
    "while query.isActive:\n",
    "    print(query.status)  # Print the status of the query\n",
    "    time.sleep(5)  # Wait for 5 seconds before checking again\n",
    "\n",
    "# Stop the query (optional, if you want to stop manually)\n",
    "query.stop()\n"
   ]
  },
  {
   "cell_type": "code",
   "execution_count": 0,
   "metadata": {
    "application/vnd.databricks.v1+cell": {
     "cellMetadata": {
      "byteLimit": 2048000,
      "rowLimit": 10000
     },
     "inputWidgets": {},
     "nuid": "97fb4a6b-3a59-40f7-bea9-849f2ddf324a",
     "showTitle": false,
     "tableResultSettingsMap": {},
     "title": ""
    }
   },
   "outputs": [],
   "source": [
    "from pyspark.sql import functions as F\n",
    "from pyspark.sql.window import Window\n",
    "\n",
    "# Define the WindowSpec\n",
    "window_spec = Window.partitionBy().orderBy(F.col(\"timestamp\")).rowsBetween(-10, 0)\n",
    "\n",
    "# Calculate the moving average\n",
    "processed_stream = parsed_stream.withColumn(\n",
    "    \"moving_avg\",\n",
    "    F.avg(\"price\").over(window_spec)\n",
    ")\n",
    "\n"
   ]
  },
  {
   "cell_type": "code",
   "execution_count": 0,
   "metadata": {
    "application/vnd.databricks.v1+cell": {
     "cellMetadata": {
      "byteLimit": 2048000,
      "rowLimit": 10000
     },
     "inputWidgets": {},
     "nuid": "19b3ee72-c2e7-45bf-9dd8-0cd42800a08a",
     "showTitle": false,
     "tableResultSettingsMap": {},
     "title": ""
    }
   },
   "outputs": [
    {
     "output_type": "stream",
     "name": "stdout",
     "output_type": "stream",
     "text": [
      "root\n |-- ticker: string (nullable = true)\n |-- price: float (nullable = true)\n |-- timestamp: timestamp (nullable = true)\n |-- volume: integer (nullable = true)\n |-- moving_avg: double (nullable = true)\n\n"
     ]
    }
   ],
   "source": [
    "from pyspark.sql import SparkSession\n",
    "from pyspark.sql import functions as F\n",
    "from pyspark.sql.window import Window\n",
    "from pyspark.sql.types import StringType, FloatType, TimestampType, IntegerType\n",
    "\n",
    "# Initialize Spark session\n",
    "spark = SparkSession.builder.appName(\"StockPriceProcessing\").getOrCreate()\n",
    "\n",
    "# Sample schema definition \n",
    "schema = StructType([\n",
    "    StructField(\"ticker\", StringType(), True),\n",
    "    StructField(\"price\", FloatType(), True),\n",
    "    StructField(\"timestamp\", TimestampType(), True),\n",
    "    StructField(\"volume\", IntegerType(), True)\n",
    "])\n",
    "\n",
    "# Example DataFrame loading (replace with your actual data source)\n",
    "\n",
    "\n",
    "# Define the WindowSpec for moving average calculation (with no partitioning)\n",
    "window_spec = Window.orderBy(F.col(\"timestamp\"))\n",
    "\n",
    "# Calculate the moving average of 'price'\n",
    "processed_stream = parsed_stream.withColumn(\n",
    "    \"moving_avg\",\n",
    "    F.avg(\"price\").over(window_spec)\n",
    ")\n",
    "\n",
    "# Print the schema to ensure the columns are correct\n",
    "processed_stream.printSchema()\n"
   ]
  },
  {
   "cell_type": "code",
   "execution_count": 0,
   "metadata": {
    "application/vnd.databricks.v1+cell": {
     "cellMetadata": {
      "byteLimit": 2048000,
      "rowLimit": 10000
     },
     "inputWidgets": {},
     "nuid": "8d766bcc-ddad-4990-b2d4-1699881cb311",
     "showTitle": false,
     "tableResultSettingsMap": {},
     "title": ""
    }
   },
   "outputs": [
    {
     "output_type": "stream",
     "name": "stdout",
     "output_type": "stream",
     "text": [
      "root\n |-- ticker: string (nullable = true)\n |-- price: float (nullable = true)\n |-- timestamp: timestamp (nullable = true)\n |-- volume: integer (nullable = true)\n\n"
     ]
    }
   ],
   "source": [
    "parsed_stream.printSchema()"
   ]
  },
  {
   "cell_type": "markdown",
   "metadata": {
    "application/vnd.databricks.v1+cell": {
     "cellMetadata": {
      "byteLimit": 2048000,
      "rowLimit": 10000
     },
     "inputWidgets": {},
     "nuid": "ca9b6d52-442d-4540-a300-1dd96333933d",
     "showTitle": false,
     "tableResultSettingsMap": {},
     "title": ""
    }
   },
   "source": []
  },
  {
   "cell_type": "markdown",
   "metadata": {
    "application/vnd.databricks.v1+cell": {
     "cellMetadata": {
      "byteLimit": 2048000,
      "rowLimit": 10000
     },
     "inputWidgets": {},
     "nuid": "fcafcc15-5875-491b-bfbe-1f745af797c4",
     "showTitle": false,
     "tableResultSettingsMap": {},
     "title": ""
    }
   },
   "source": [
    "**Step 6: Data Processing and Analysis in Real Time**"
   ]
  },
  {
   "cell_type": "code",
   "execution_count": 0,
   "metadata": {
    "application/vnd.databricks.v1+cell": {
     "cellMetadata": {
      "byteLimit": 2048000,
      "rowLimit": 10000
     },
     "inputWidgets": {},
     "nuid": "42c2caf4-647c-4113-a815-0d260f87d856",
     "showTitle": false,
     "tableResultSettingsMap": {},
     "title": ""
    }
   },
   "outputs": [
    {
     "output_type": "stream",
     "name": "stdout",
     "output_type": "stream",
     "text": [
      "+------+------+-------------------+\n|ticker| price|          timestamp|\n+------+------+-------------------+\n|  MSFT|491.57|2024-12-10 03:34:10|\n|  AAPL|336.44|2024-12-10 11:39:47|\n|  MSFT| 353.1|2024-12-09 19:08:30|\n|  AAPL|344.76|2024-12-10 11:30:21|\n|  AAPL|110.14|2024-12-10 03:43:46|\n|  AAPL|115.66|2024-12-09 23:29:23|\n|  AAPL|448.05|2024-12-10 06:07:28|\n|  MSFT|241.56|2024-12-10 03:42:26|\n|  MSFT|362.79|2024-12-09 21:20:56|\n|  AAPL|370.28|2024-12-10 06:01:27|\n|  AAPL|192.62|2024-12-09 23:11:52|\n|  AAPL|392.34|2024-12-10 06:05:33|\n|  AAPL|481.58|2024-12-10 11:52:48|\n|  AAPL|313.23|2024-12-10 03:55:52|\n|  MSFT|189.91|2024-12-09 19:08:35|\n|  MSFT|381.72|2024-12-09 23:29:03|\n|  AAPL|151.62|2024-12-10 05:49:37|\n|  MSFT|488.23|2024-12-09 21:49:17|\n|  MSFT|329.88|2024-12-09 23:16:22|\n|  MSFT|257.62|2024-12-09 21:59:52|\n+------+------+-------------------+\nonly showing top 20 rows\n\n"
     ]
    }
   ],
   "source": [
    "from pyspark.sql import SparkSession\n",
    "\n",
    "# Initialize Spark session (if not already initialized)\n",
    "spark = SparkSession.builder.appName(\"DeltaTableRead\").getOrCreate()\n",
    "\n",
    "# Path to the Delta table\n",
    "delta_table_path = \"/mnt/delta/stock_value/\"\n",
    "\n",
    "# Read the Delta table\n",
    "df = spark.read.format(\"delta\").load(delta_table_path)\n",
    "\n",
    "# Display the contents of the Delta table\n",
    "df.show()"
   ]
  },
  {
   "cell_type": "code",
   "execution_count": 0,
   "metadata": {
    "application/vnd.databricks.v1+cell": {
     "cellMetadata": {
      "byteLimit": 2048000,
      "rowLimit": 10000
     },
     "inputWidgets": {},
     "nuid": "ea18540f-a456-43fb-9dfb-90487d6c5569",
     "showTitle": false,
     "tableResultSettingsMap": {},
     "title": ""
    }
   },
   "outputs": [],
   "source": [
    "from pyspark.sql.types import StructType, StructField, StringType, DoubleType\n",
    "from pyspark.sql.functions import col, avg, sum, max, to_date\n",
    "\n",
    "# Define the schema for the daily summary table\n",
    "daily_summary_schema = StructType([\n",
    "    StructField(\"date\", StringType(), True),\n",
    "    StructField(\"ticker\", StringType(), True),\n",
    "    StructField(\"avg_price\", DoubleType(), True),\n",
    "    StructField(\"max_price\", DoubleType(), True),\n",
    "    StructField(\"total_volume\", DoubleType(), True),\n",
    "    StructField(\"total_price\", DoubleType(), True)\n",
    "])\n",
    "\n",
    "# Read stock price data from the Delta table\n",
    "df = spark.read.format(\"delta\").load(\"/mnt/delta/stock_value\")\n",
    "\n",
    "# Convert timestamps to date (will aggregate by date)\n",
    "df = df.withColumn(\"date\", to_date(col(\"timestamp\")))\n",
    "\n",
    "# Group by date and symbol to calculate daily summary statistics\n",
    "daily_summary = df.groupBy(\"date\", \"ticker\") \\\n",
    "    .agg(\n",
    "        avg(\"price\").alias(\"avg_price\"),\n",
    "        max(\"price\").alias(\"max_price\"),\n",
    "\n",
    "        sum(\"price\").alias(\"total_price\")  # Assuming you want sum as total value; replace if needed\n",
    "    )\n",
    "\n",
    "# Write daily summary to a Delta table (append mode)\n",
    "daily_summary.write.format(\"delta\").mode(\"append\").save(\"/mnt/delta/daily_summary\")\n",
    "\n"
   ]
  },
  {
   "cell_type": "markdown",
   "metadata": {
    "application/vnd.databricks.v1+cell": {
     "cellMetadata": {
      "byteLimit": 2048000,
      "rowLimit": 10000
     },
     "inputWidgets": {},
     "nuid": "5d76b2ef-bd2c-4ee6-82db-44fc34a6ce90",
     "showTitle": false,
     "tableResultSettingsMap": {},
     "title": ""
    }
   },
   "source": [
    "Creating the tigger if price changes"
   ]
  },
  {
   "cell_type": "code",
   "execution_count": 0,
   "metadata": {
    "application/vnd.databricks.v1+cell": {
     "cellMetadata": {
      "byteLimit": 2048000,
      "rowLimit": 10000
     },
     "inputWidgets": {},
     "nuid": "9d05c51f-4ee9-4a35-a039-755113f7dc97",
     "showTitle": false,
     "tableResultSettingsMap": {},
     "title": ""
    }
   },
   "outputs": [],
   "source": [
    "from pyspark.sql.functions import lag, col\n",
    "from pyspark.sql.window import Window\n",
    "\n",
    "# Calculate price change percentage\n",
    "window_spec = Window.partitionBy(\"ticker\").orderBy(\"timestamp\")\n",
    "price_change = parsed_stream.withColumn(\n",
    "    \"prev_price\", lag(\"price\").over(window_spec)\n",
    ").withColumn(\n",
    "    \"price_change_percent\",\n",
    "    (col(\"price\") - col(\"prev_price\")) / col(\"prev_price\") * 100\n",
    ")\n",
    "\n",
    "# Filter significant price changes\n",
    "alerts = price_change.filter((col(\"price_change_percent\") > 5) | (col(\"price_change_percent\") < -5))"
   ]
  },
  {
   "cell_type": "markdown",
   "metadata": {
    "application/vnd.databricks.v1+cell": {
     "cellMetadata": {
      "byteLimit": 2048000,
      "rowLimit": 10000
     },
     "inputWidgets": {},
     "nuid": "293c1ac2-df62-40c4-9306-066f3c4c55b9",
     "showTitle": false,
     "tableResultSettingsMap": {},
     "title": ""
    }
   },
   "source": [
    "**Step6 : Streaming Data Sink and Visualization**"
   ]
  },
  {
   "cell_type": "code",
   "execution_count": 0,
   "metadata": {
    "application/vnd.databricks.v1+cell": {
     "cellMetadata": {
      "byteLimit": 2048000,
      "rowLimit": 10000
     },
     "inputWidgets": {},
     "nuid": "0cb70f4a-d27e-4ccb-9208-87c14ece18fb",
     "showTitle": false,
     "tableResultSettingsMap": {},
     "title": ""
    }
   },
   "outputs": [
    {
     "output_type": "stream",
     "name": "stdout",
     "output_type": "stream",
     "text": [
      "Requirement already satisfied: matplotlib in /databricks/python3/lib/python3.9/site-packages (3.5.1)\r\nRequirement already satisfied: seaborn in /databricks/python3/lib/python3.9/site-packages (0.11.2)\r\nRequirement already satisfied: cycler>=0.10 in /databricks/python3/lib/python3.9/site-packages (from matplotlib) (0.11.0)\r\nRequirement already satisfied: fonttools>=4.22.0 in /databricks/python3/lib/python3.9/site-packages (from matplotlib) (4.25.0)\r\nRequirement already satisfied: kiwisolver>=1.0.1 in /databricks/python3/lib/python3.9/site-packages (from matplotlib) (1.3.2)\r\nRequirement already satisfied: numpy>=1.17 in /databricks/python3/lib/python3.9/site-packages (from matplotlib) (1.21.5)\r\nRequirement already satisfied: packaging>=20.0 in /databricks/python3/lib/python3.9/site-packages (from matplotlib) (21.3)\r\nRequirement already satisfied: pillow>=6.2.0 in /databricks/python3/lib/python3.9/site-packages (from matplotlib) (9.0.1)\r\nRequirement already satisfied: pyparsing>=2.2.1 in /databricks/python3/lib/python3.9/site-packages (from matplotlib) (3.0.4)\r\nRequirement already satisfied: python-dateutil>=2.7 in /databricks/python3/lib/python3.9/site-packages (from matplotlib) (2.8.2)\r\nRequirement already satisfied: scipy>=1.0 in /databricks/python3/lib/python3.9/site-packages (from seaborn) (1.7.3)\r\nRequirement already satisfied: pandas>=0.23 in /databricks/python3/lib/python3.9/site-packages (from seaborn) (1.4.2)\r\nRequirement already satisfied: pytz>=2020.1 in /databricks/python3/lib/python3.9/site-packages (from pandas>=0.23->seaborn) (2021.3)\r\nRequirement already satisfied: six>=1.5 in /databricks/python3/lib/python3.9/site-packages (from python-dateutil>=2.7->matplotlib) (1.16.0)\r\n"
     ]
    }
   ],
   "source": [
    "!pip install matplotlib seaborn\n"
   ]
  },
  {
   "cell_type": "markdown",
   "metadata": {
    "application/vnd.databricks.v1+cell": {
     "cellMetadata": {
      "byteLimit": 2048000,
      "rowLimit": 10000
     },
     "inputWidgets": {},
     "nuid": "7529df5c-21e7-4024-b20d-9ce8b69c62fe",
     "showTitle": false,
     "tableResultSettingsMap": {},
     "title": ""
    }
   },
   "source": []
  },
  {
   "cell_type": "code",
   "execution_count": 0,
   "metadata": {
    "application/vnd.databricks.v1+cell": {
     "cellMetadata": {
      "byteLimit": 2048000,
      "rowLimit": 10000
     },
     "inputWidgets": {},
     "nuid": "7183a631-5e22-4a1d-aa17-e3a09efbce38",
     "showTitle": false,
     "tableResultSettingsMap": {},
     "title": ""
    }
   },
   "outputs": [
    {
     "output_type": "display_data",
     "data": {
      "application/vnd.databricks.v1+bamboolib_hint": "{\"pd.DataFrames\": [], \"version\": \"0.0.1\"}",
      "text/plain": []
     },
     "metadata": {},
     "output_type": "display_data"
    },
    {
     "output_type": "display_data",
     "data": {
      "image/png": "[encoded data removed]"
     },
     "metadata": {
      "application/vnd.databricks.v1+output": {
       "addedWidgets": {},
       "arguments": {},
       "data": "data:image/png;base64,iVBORw0KGgoAAAANSUhEUgAAA1gAAAI4CAYAAAB3HEhGAAAAOXRFWHRTb2Z0d2FyZQBNYXRwbG90bGliIHZlcnNpb24zLjUuMSwgaHR0cHM6Ly9tYXRwbG90bGliLm9yZy/YYfK9AAAACXBIWXMAAAsTAAALEwEAmpwYAAA9SElEQVR4nO3dabhcVZm38fshiQQIMiXQQIBEBgUEgh3ARtQgyiyD2AyioEwOoKhoY4sKtsZGXxSlsdHQ2ESRIIMCgqAICA4gJBgGQdsAwQQQQpgSBiHJ837Y+8TikJOchFVTzv27rrpO7aF2PVWr6lT9a6+9dmQmkiRJkqRXboV2FyBJkiRJywsDliRJkiQVYsCSJEmSpEIMWJIkSZJUiAFLkiRJkgoxYEmSJElSIQYsSRqgIuKUiDivSdu+KiIOL7zNcyPiyyW32SoR8eGIeCQi5kbEWi26z+9ExOf7qiEi3hQRf6mn92tFTaXUNb9mCeuMioiMiMGtqkuSwIAlaTkREb+KiCciYsV21/JKRcTqEfG9iPhbRMyJiP+LiM80LM+I2KTFNZ0bES/UX2wfj4hrIuJ1fa2fmXtk5sRW1rg06ufwmfrxzI6IayPioCbd1xDgG8CumTksM2cX2Ob0iHiufn08GRG/i4gPRcTCz/XM/FBmfmkxNfwHcGY9fekrrWkp6+8zLEfEhnW79Fwa22puRLy5rvm+VtYsSf1lwJLU9SJiFPBmIIF9mrD9Vv8CfjowDNgcWI3qMU1rcQ2L8rXMHAaMBB4Fzu29QlS65bNlm/rxvJbqsZwZESc34X7WAYYCf1zaGy7h+XxnZq4KbAScCpwInLMUNWy0LDXVdTXtPZGZf60D1LC6faBuq/ry62bd96K4B0zS0uqWD0FJWpzDgJupviQfDhARK9a/7L++Z6WIGFH/6r92Pb13RExt2AOwdcO60yPixIi4A3gmIgZHxGci4t56r8HdEbF/w/qDIuLrEfFYRNwfEcc1dk+KiNUi4pyIeDgiHoyIL0fEoD4ez3bA+Zn5RGYuyMw/ZebF9XZurNe5vf41/6B6/tERMa3eu3R5RKzXUNuW9R6nx+suYp/tfYcRMSQiJkXEJRHxqsU92Zn5LHA+8Pr6tr+KiPER8VvgWeA19byjGrZ/dETc0/DcvaGev159n7Pq5+1ji7tvYHj9WOZExA0RsVG9nW9HxNd7PabLI+ITS9gemflYZv4A+DDw71F34YuIDzTUfF9EfLBh23dFxDt7PX+PRcS2vWrYDPhzPflkRFxXz98xIm6NiKfqvzs23OZlz+cS6n8qMy8HDgIO73nN9+wlWlQNEXFvvd2f1q+jFRf3Go2I90fEbyPi9IiYDZxS3+a0iPhr/br6TkSsVK8/LiJmRsQJEfFovc0P1MuOAQ4F/q2+758uqY16i4a9uBGxUv3ee6B+Pn/TU0ev2xwQ1fv69RGxQvzj/Tw7Ii6MiDXr9Xq6Fh4ZEX8FrouIoRFxXr3uk3WbrbO0dUsaGAxYkpYHhwE/rC+7RcQ6mfl34MfAIQ3rHQjckJmP1l+Evwd8EFgL+C5weby0i+EhwF7A6pk5D7iXak/ZasAXgfMiYt163aOBPYAxwBuA/XrVeC4wD9gE2BbYFTiKRbsZGF9/wd+0cUFmvqW+2vOL/o8i4m3Af9aPb13gAeACgIhYFfglcDWwXn3/1zZus/4yeinwd+DAzHyhj7p61h9G9QX5Dw2z3wccA6xa33/j+v8KnELVTq+m2iM3O6o9Mz8FbgfWB3YBPh4Ruy3m7g8FvgQMB6ZStTnAROCQeptExHDg7VRBsL8uAwYD29fTjwJ71zV/ADi9JxgC3wfe23DbPYGHM7PxOSEz/w/Ysp5cPTPfVn+RvxI4g+q19w3gynjpsVl9Pp99ycxbgJlUr9HF1pCZGwN/pdoLNqx+v5zL4l+jOwD3Ue0NG0+112wzqtf8JlRt+IWG9f+J6r2yPnAk8O2IWCMzJ1C129fq+34nr8xpwD8DOwJrAv8GLGhcoQ53XwXenpl3AR+leo++lep98QTw7V7bfSvVXuTdqH64WQ3YgKrNPgQ89wrrlrS8ykwvXrx46doLsBPwIjC8nv4T8In6+tuBexvW/S1wWH39LOBLvbb1Z+Ct9fXpwBFLuO+pwL719euADzYseztVl8XBVF9I/w6s1LD8EOD6Pra7EvBZYEr92KYBezQsT2CThulzqL6s9kwPq283qr6fP/RxP6cAlwM3UH3Zj8U81nOB54Engb/Vt9u4XvYr4D96rf8r4Kj6+s+B4xexzR2Av/aa9+/A/y6mhgt6Pc75wAb19D3AO+rrxwE/W8zjeclz2DD/b8Chfdzm0p7HQfWlfA7w6nr6YuDf+rjdqJ7XQj39PuCWXuvcBLy/r+dzEducThUWes+/GTip4fn68qJq6L2NJb1Ggfc3thUQwDM9r4F63r8A99fXx1EFkMb7exR4Y+/alnRZVFv1zKP6ofg5qh8c+nrePwXcDYxsWHYPsEvD9LpU75nBDbd7TcPyI4DfAVv3p2YvXrwM7Iv9iiV1u8OBX2TmY/X0+fW804HrgZUjYgfgEapf2n9Sr7cRVXeqjzZs61VUX5x7zGi8o4g4DPgk1RcwqL7gD6+vr9dr/cbrGwFDgIcjomfeCr233yMznwO+AnwlIl4NfAa4KCI2zMzHF3GT9YDbGm4/t+7GtT7VL+73Lup+am+sazskM3Mx6wGclpmf62PZIh9Lra8aNgLWi4gnG+YNAhZ3jM3C+6kf5+P847mfSLVX6Zr677cWs52XiWogiBHA4/X0HsDJVHtpVgBWBu6s7/uhugvfARHxE6q9l8f3867W4+V7pR6gaq8ei3s+F2f9nvqXUn9eo43XR1A9H1Ma1g+q9usxO6s9vz2epXrPlDSc6tiyxb3GP00VWGc2zNsI+ElENO7pmk8VNHs0Pt4fUL2OL4iI1YHzqILsi6+gdknLKQOWpK5Vd207EBgUEX+rZ68IrB4R22Tm7RFxIdUv8Y8AV2TmnHq9GcD4zBy/mLtYGDiiOtbnbKpubDdl5vyImEr1pRLgYarBH3ps0HB9BtXegeG9vnAuUWY+HRFfodqzM5pFf3l+iOoLY0+tq1B1Y3qwvu+DF3MXvwDuAK6NiHGZ+cjS1NdY6mKWzQA27mP+/Zm56SKW9WXh81p3VVyT6vFD9aX3rojYhqpr16VLsV2Afam6yN1SdxW9hKpb42WZ+WJEXMo/2huqQHcU1WfpTZn5YD/v5yXtVduQqhtnjyWF3ZeJiO2oAtZvlva29O812ljTY1R7jrZcisfd17Zeiceo9qxuTNXVdFF2Ba6OiL9l5iX1vBlUe6h/23vlqAbNeUmNdZD6IvDFevnPqPZ49zWoiKQBzGOwJHWz/ah+dd6Cau/UGKov1r+m+mIM1R6tg6iO3Wk8Huds4EMRsUNUVomIvepjlhZlFaovXLNg4TEdr29YfiFwfESsX//CfWLPgsx8mCrIfD0iXl0fYL9xRLx1UXcUEZ+PiO0i4lURMZRqz8iT/GOggkd46cAHk4APRMSYOhh8Bfh9Zk4HrgDWjYiP14MSrFrv0VsoM79WPzfX1sculfY/wKci4p/r53qTOrDeAsyJajCRlaIaKOT1dVDoy54RsVNUA3F8Cbg5M2fUj2MmcCvV3oZL6j2BSxQRa0bEoVTH4Hw1qyHMX0UV1mcB8+q9Wbv2uumlVMfbHU91TFZ//QzYLCLeE9XgKQdRvYavWIptNNb/6ojYm+q4u/My886l3cbSvkYzcwHVe+j0+MegMesv4fi5Rr1fw8ukruN7wDeiGjBlUET8S69jKf8I7E51DFjPKKPfoTrOsWeQlBERsW9f9xMRO0fEVlEN+vE0VXfCBX2tL2lgM2BJ6maHUx2v89fM/FvPBTgTODQiBmfm76mOFVkPuKrnhpk5mWpgijOpDnCfRnWcySJl5t3A16mOlXkE2IrqmK4eZ/OPvUF/oPoSPY8qAEIV+F5FdSzIE1TH7KzLoiXwv1S/zj8EvAPYKzPn1stPASZGNZrZgZn5S+DzVHtcHqb6Nf/guu459e3fSXV80V+AnRfx+L5EFRh+WQ/CUExmXkQ1KML5VMctXQqsmZnzqQaRGAPcXz/e/6EaTKAv51N123ucamCD9/ZaPpGqbX7Qj9Juj4i5VG1/FNWxe1+oa54DfIwqOD8BvIfquLPGx/Uc1XM+mmpAlX6pA9zewAnAbKpBGfZu6ObaXz+NiDlUe2NOohos4wNLuY1GS/MahepHhGnAzRHxNNVgKq/t532dA2xRv4YvXeaKK5+i6rp5K9Xr4qv0+n6TmbdTPedn12H5W1Tt+Yv6ObyZ6pjAvvwT1fPxNNXxWzfQv9eYpAEoltzlXpK0tOovcd/JzN5dwdREEfEWqq6CG/XjmLIS9/cFYLPM7B30JEkDlHuwJKmAuovbnnWXr/Wp9rL8ZEm3Uzn1IBXHA//TonC1JtXw4xOafV+SpO5hwJKkMoLqIPgnqLoI3sNLzwmkJoqIzamOU1sX+GYL7u9oqq55V2XmjUtaX5I0cNhFUJIkSZIKcQ+WJEmSJBXS1efBGj58eI4aNardZUiSJEkaYKZMmfJYZo7oPb+rA9aoUaOYPHlyu8uQJEmSNMBExAOLmm8XQUmSJEkqxIAlSZIkSYUYsCRJkiSpEAOWJEmSJBViwJIkSZKkQgxYkiRJklSIAUuSJEmSCjFgSZIkSVIhBixJkiRJKsSAJUmSJEmFGLAkSZIkqRADliRJkiQVYsCSJEmSpEIMWJIkSZJUiAFLkiRJkgoxYEmSJElSIQYsSZIkSSrEgCVJkiRJhRiwJEmSJKkQA5YkSZIkFWLAkiRJkqRCBre7AEmS1IdTVmt3BZLUGU55qt0V9Jt7sCRJkiSpEAOWJEmSJBViwJIkSZKkQgxYkiRJklSIAUuSJEmSCjFgSZIkSVIhBixJkiRJKsTzYBU26jNXtrsESeoI00/dq90lSJLUcu7BkiRJkqRCDFiSJEmSVIgBS5IkSZIKaVrAioihEXFLRNweEX+MiC/W80dHxO8jYlpE/CgiXlXPX7GenlYvH9Ws2iRJkiSpGZq5B+vvwNsycxtgDLB7RLwR+CpwemZuAjwBHFmvfyTwRD3/9Ho9SZIkSeoaTQtYWZlbTw6pLwm8Dbi4nj8R2K++vm89Tb18l4iIZtUnSZIkSaU19RisiBgUEVOBR4FrgHuBJzNzXr3KTGD9+vr6wAyAevlTwFqL2OYxETE5IibPmjWrmeVLkiRJ0lJpasDKzPmZOQYYCWwPvK7ANidk5tjMHDtixIhXujlJkiRJKqYlJxrOzCcj4nrgX4DVI2JwvZdqJPBgvdqDwAbAzIgYDKwGzG5FfSVNH/qedpcgSR3iqXYXIElSyzVzFMEREbF6fX0l4B3APcD1wLvr1Q4HLquvX15PUy+/LjOzWfVJkiRJUmnN3IO1LjAxIgZRBbkLM/OKiLgbuCAivgz8ATinXv8c4AcRMQ14HDi4ibVJkiRJUnFNC1iZeQew7SLm30d1PFbv+c8D/9qseiRJkiSp2Zo6yIUkSZIkDSQGLEmSJEkqxIAlSZIkSYUYsCRJkiSpEAOWJEmSJBViwJIkSZKkQgxYkiRJklSIAUuSJEmSCjFgSZIkSVIhBixJkiRJKsSAJUmSJEmFGLAkSZIkqRADliRJkiQVYsCSJEmSpEIMWJIkSZJUiAFLkiRJkgoxYEmSJElSIQYsSZIkSSrEgCVJkiRJhRiwJEmSJKkQA5YkSZIkFWLAkiRJkqRCDFiSJEmSVIgBS5IkSZIKMWBJkiRJUiEGLEmSJEkqxIAlSZIkSYUYsCRJkiSpEAOWJEmSJBViwJIkSZKkQgxYkiRJklSIAUuSJEmSCjFgSZIkSVIhBixJkiRJKsSAJUmSJEmFGLAkSZIkqRADliRJkiQVYsCSJEmSpEIMWJIkSZJUiAFLkiRJkgoxYEmSJElSIQYsSZIkSSrEgCVJkiRJhRiwJEmSJKkQA5YkSZIkFWLAkiRJkqRCDFiSJEmSVIgBS5IkSZIKMWBJkiRJUiEGLEmSJEkqxIAlSZIkSYUYsCRJkiSpEAOWJEmSJBViwJIkSZKkQgxYkiRJklSIAUuSJEmSCjFgSZIkSVIhBixJkiRJKsSAJUmSJEmFGLAkSZIkqRADliRJkiQVYsCSJEmSpEIMWJIkSZJUiAFLkiRJkgppWsCKiA0i4vqIuDsi/hgRx9fzT4mIByNian3Zs+E2/x4R0yLizxGxW7NqkyRJkqRmGNzEbc8DTsjM2yJiVWBKRFxTLzs9M09rXDkitgAOBrYE1gN+GRGbZeb8JtYoSZIkScU0bQ9WZj6cmbfV1+cA9wDrL+Ym+wIXZObfM/N+YBqwfbPqkyRJkqTSWnIMVkSMArYFfl/POi4i7oiI70XEGvW89YEZDTebySICWUQcExGTI2LyrFmzmlm2JEmSJC2VpgesiBgGXAJ8PDOfBs4CNgbGAA8DX1+a7WXmhMwcm5ljR4wYUbpcSZIkSVpmTQ1YETGEKlz9MDN/DJCZj2Tm/MxcAJzNP7oBPghs0HDzkfU8SZIkSeoKzRxFMIBzgHsy8xsN89dtWG1/4K76+uXAwRGxYkSMBjYFbmlWfZIkSZJUWjNHEXwT8D7gzoiYWs/7LHBIRIwBEpgOfBAgM/8YERcCd1ONQHisIwhKkiRJ6iZNC1iZ+RsgFrHoZ4u5zXhgfLNqkiRJkqRmaskogpIkSZI0EBiwJEmSJKkQA5YkSZIkFWLAkiRJkqRCDFiSJEmSVIgBS5IkSZIKMWBJkiRJUiEGLEmSJEkqxIAlSZIkSYUYsCRJkiSpEAOWJEmSJBViwJIkSZKkQgxYkiRJklSIAUuSJEmSCjFgSZIkSVIhBixJkiRJKsSAJUmSJEmFGLAkSZIkqRADliRJkiQVYsCSJEmSpEIMWJIkSZJUiAFLkiRJkgoxYEmSJElSIQYsSZIkSSrEgCVJkiRJhRiwJEmSJKkQA5YkSZIkFWLAkiRJkqRCDFiSJEmSVIgBS5IkSZIKMWBJkiRJUiEGLEmSJEkqxIAlSZIkSYUYsCRJkiSpEAOWJEmSJBViwJIkSZKkQgxYkiRJklSIAUuSJEmSCjFgSZIkSVIhBixJkiRJKsSAJUmSJEmFGLAkSZIkqRADliRJkiQVYsCSJEmSpEIMWJIkSZJUiAFLkiRJkgoxYEmSJElSIQYsSZIkSSrEgCVJkiRJhRiwJEmSJKkQA5YkSZIkFWLAkiRJkqRCDFiSJEmSVIgBS5IkSZIKMWBJkiRJUiEGLEmSJEkqxIAlSZIkSYUYsCRJkiSpEAOWJEmSJBViwJIkSZKkQgxYkiRJklSIAUuSJEmSCjFgSZIkSVIhBixJkiRJKsSAJUmSJEmFNC1gRcQGEXF9RNwdEX+MiOPr+WtGxDUR8Zf67xr1/IiIMyJiWkTcERFvaFZtkiRJktQMzdyDNQ84ITO3AN4IHBsRWwCfAa7NzE2Ba+tpgD2ATevLMcBZTaxNkiRJkoprWsDKzIcz87b6+hzgHmB9YF9gYr3aRGC/+vq+wPezcjOwekSs26z6JEmSJKm0lhyDFRGjgG2B3wPrZObD9aK/AevU19cHZjTcbGY9r/e2jomIyRExedasWc0rWpIkSZKWUtMDVkQMAy4BPp6ZTzcuy8wEcmm2l5kTMnNsZo4dMWJEwUolSZIk6ZVpasCKiCFU4eqHmfnjevYjPV3/6r+P1vMfBDZouPnIep4kSZIkdYVmjiIYwDnAPZn5jYZFlwOH19cPBy5rmH9YPZrgG4GnGroSSpIkSVLHG9zEbb8JeB9wZ0RMred9FjgVuDAijgQeAA6sl/0M2BOYBjwLfKCJtUmSJElScU0LWJn5GyD6WLzLItZP4Nhm1SNJkiRJzdaSUQQlSZIkaSAwYEmSJElSIQYsSZIkSSrEgCVJkiRJhRiwJEmSJKkQA5YkSZIkFWLAkiRJkqRCDFiSJEmSVIgBS5IkSZIKMWBJkiRJUiEGLEmSJEkqxIAlSZIkSYUYsCRJkiSpEAOWJEmSJBViwJIkSZKkQgxYkiRJklRIvwNWRKzczEIkSZIkqdstMWBFxI4RcTfwp3p6m4j476ZXJkmSJEldpj97sE4HdgNmA2Tm7cBbmlmUJEmSJHWjfnURzMwZvWbNb0ItkiRJktTVBvdjnRkRsSOQETEEOB64p7llSZIkSVL36c8erA8BxwLrAw8CY+ppSZIkSVKDJe7ByszHgENbUIskSZIkdbX+jCI4MSJWb5heIyK+19SqJEmSJKkL9aeL4NaZ+WTPRGY+AWzbtIokSZIkqUv1J2CtEBFr9ExExJr0b3AMSZIkSRpQ+hOUvg7cFBEXAQG8Gxjf1KokSZIkqQv1Z5CL70fEZOBt9ax3ZebdzS1LkiRJkrpPnwErIl6dmU/XXQL/BpzfsGzNzHy8FQVKkiRJUrdY3B6s84G9gSlANsyPevo1TaxLkiRJkrpOnwErM/eOiADempl/bWFNkiRJktSVFjuKYGYmcGWLapEkSZKkrtafYdpvi4jtml6JJEmSJHW5/gzTvgPw3oiYDjxDfQxWZm7dzMIkSZIkqdv0J2Dt1vQqJEmSJGk5sLhh2tcGPgtsAtwJ/GdmPt2qwiRJkiSp2yzuGKzvU3UJ/C9gGHBGSyqSJEmSpC61uC6C62bmSfX1n0fEba0oSJIkSZK61WKPwYqINagGtQAY1DidmY83uTZJkiRJ6iqLC1irAVP4R8AC6NmLlcBrmlWUJEmSJHWjPgNWZo5qYR2SJEmS1PX6c6JhSZIkSVI/GLAkSZIkqRADliRJkiQV0q+AFRE7RcQH6usjImJ0c8uSJEmSpO6zxIAVEScDJwL/Xs8aApzXzKIkSZIkqRv1Zw/W/sA+wDMAmfkQsGozi5IkSZKkbtSfgPVCZibVua+IiFWaW5IkSZIkdaf+BKwLI+K7wOoRcTTwS+Ds5pYlSZIkSd2nzxMN98jM0yLiHcDTwGuBL2TmNU2vTJIkSZK6zBIDFkAdqAxVkiRJkrQYSwxYETGH+virBk8Bk4ETMvO+ZhQmSZIkSd2mP3uwvgnMBM4HAjgY2Bi4DfgeMK5JtUmSJElSV+nPIBf7ZOZ3M3NOZj6dmROA3TLzR8AaTa5PkiRJkrpGfwLWsxFxYESsUF8OBJ6vl/XuOihJkiRJA1Z/AtahwPuAR4FH6uvvjYiVgOOaWJskSZIkdZX+DNN+H/DOPhb/pmw5kiRJktS9+jOK4FDgSGBLYGjP/Mw8ool1SZIkSVLX6U8XwR8A/wTsBtwAjATmNLMoSZIkSepG/QlYm2Tm54FnMnMisBewQ3PLkiRJkqTu05+A9WL998mIeD2wGrB280qSJEmSpO7UnxMNT4iINYDPAZcDw4DPN7UqSZIkSepCiw1YEbEC8HRmPgHcCLymJVVJkiRJUhdabBfBzFwA/FuLapEkSZKkrtafY7B+GRGfiogNImLNnsuSbhQR34uIRyPiroZ5p0TEgxExtb7s2bDs3yNiWkT8OSJ2W8bHI0mSJElt059jsA6q/x7bMC9ZcnfBc4Ezge/3mn96Zp7WOCMitgAOpjrX1npUoW6zzJzfj/okSZIkqSMsMWBl5uhl2XBm3hgRo/q5+r7ABZn5d+D+iJgGbA/ctCz3LUmSJEntsMQughGxckR8LiIm1NObRsTer+A+j4uIO+ouhGvU89YHZjSsM7Oet6h6jomIyRExedasWa+gDEmSJEkqqz/HYP0v8AKwYz39IPDlZby/s4CNgTHAw8DXl3YDmTkhM8dm5tgRI0YsYxmSJEmSVF5/AtbGmfk16hMOZ+azQCzLnWXmI5k5vx6d8GyqboBQhbYNGlYdWc+TJEmSpK7Rn4D1QkSsRDWwBRGxMfD3ZbmziFi3YXJ/oGeEwcuBgyNixYgYDWwK3LIs9yFJkiRJ7dKfUQRPAa4GNoiIHwJvAt6/pBtFxCRgHDA8ImYCJwPjImIMVVibDnwQIDP/GBEXAncD84BjHUFQkiRJUrfpzyiCv4iIKcAbqboGHp+Zj/XjdocsYvY5i1l/PDB+SduVJEmSpE61xIAVET8Fzgcuz8xnml+SJEmSJHWn/hyDdRrwZuDuiLg4It4dEUObXJckSZIkdZ3+dBG8AbghIgYBbwOOBr4HvLrJtUmSJElSV+nPIBfUowi+EzgIeAMwsZlFSZIkSVI36s8xWBdSna/qauBM4Ib6PFaSJEmSpAb92YN1DnBIz7DpEbFTRBySmcc2tzRJkiRJ6i79OQbr5xGxbUQcAhwI3A/8uOmVSZIkSVKX6TNgRcRmwCH15THgR0Bk5s4tqk2SJEmSusri9mD9Cfg1sHdmTgOIiE+0pCpJkiRJ6kKLOw/Wu4CHgesj4uyI2AWI1pQlSZIkSd2nz4CVmZdm5sHA64DrgY8Da0fEWRGxa4vqkyRJkqSusbg9WABk5jOZeX5mvhMYCfwBOLHplUmSJElSl1liwGqUmU9k5oTM3KVZBUmSJElSt1qqgCVJkiRJ6psBS5IkSZIKMWBJkiRJUiEGLEmSJEkqxIAlSZIkSYUYsCRJkiSpEAOWJEmSJBViwJIkSZKkQgxYkiRJklSIAUuSJEmSCjFgSZIkSVIhBixJkiRJKsSAJUmSJEmFGLAkSZIkqRADliRJkiQVYsCSJEmSpEIMWJIkSZJUiAFLkiRJkgoxYEmSJElSIQYsSZIkSSrEgCVJkiRJhRiwJEmSJKkQA5YkSZIkFWLAkiRJkqRCDFiSJEmSVIgBS5IkSZIKMWBJkiRJUiEGLEmSJEkqxIAlSZIkSYUYsCRJkiSpEAOWJEmSJBViwJIkSZKkQgxYkiRJklSIAUuSJEmSCjFgSZIkSVIhBixJkiRJKsSAJUmSJEmFGLAkSZIkqRADliRJkiQVYsCSJEmSpEIMWJIkSZJUiAFLkiRJkgoxYEmSJElSIQYsSZIkSSrEgCVJkiRJhRiwJEmSJKkQA5YkSZIkFWLAkiRJkqRCDFiSJEmSVIgBS5IkSZIKMWBJkiRJUiEGLEmSJEkqpGkBKyK+FxGPRsRdDfPWjIhrIuIv9d816vkREWdExLSIuCMi3tCsuiRJkiSpWZq5B+tcYPde8z4DXJuZmwLX1tMAewCb1pdjgLOaWJckSZIkNUXTAlZm3gg83mv2vsDE+vpEYL+G+d/Pys3A6hGxbrNqkyRJkqRmaPUxWOtk5sP19b8B69TX1wdmNKw3s573MhFxTERMjojJs2bNal6lkiRJkrSU2jbIRWYmkMtwuwmZOTYzx44YMaIJlUmSJEnSsml1wHqkp+tf/ffRev6DwAYN642s50mSJElS12h1wLocOLy+fjhwWcP8w+rRBN8IPNXQlVCSJEmSusLgZm04IiYB44DhETETOBk4FbgwIo4EHgAOrFf/GbAnMA14FvhAs+qSJEmSpGZpWsDKzEP6WLTLItZN4Nhm1SJJkiRJrdC2QS4kSZIkaXljwJIkSZKkQgxYkiRJklSIAUuSJEmSCjFgSZIkSVIhBixJkiRJKsSAJUmSJEmFGLAkSZIkqRADliRJkiQVYsCSJEmSpEIMWJIkSZJUiAFLkiRJkgoxYEmSJElSIQYsSZIkSSrEgCVJkiRJhRiwJEmSJKkQA5YkSZIkFWLAkiRJkqRCDFiSJEmSVIgBS5IkSZIKMWBJkiRJUiEGLEmSJEkqxIAlSZIkSYUYsCRJkiSpEAOWJEmSJBViwJIkSZKkQgxYkiRJklSIAUuSJEmSCjFgSZIkSVIhBixJkiRJKsSAJUmSJEmFGLAkSZIkqRADliRJkiQVYsCSJEmSpEIMWJIkSZJUiAFLkiRJkgoxYEmSJElSIQYsSZIkSSrEgCVJkiRJhRiwJEmSJKkQA5YkSZIkFWLAkiRJkqRCDFiSJEmSVIgBS5IkSZIKMWBJkiRJUiEGLEmSJEkqxIAlSZIkSYUYsCRJkiSpEAOWJEmSJBViwJIkSZKkQgxYkiRJklSIAUuSJEmSCjFgSZIkSVIhBixJkiRJKsSAJUmSJEmFGLAkSZIkqRADliRJkiQVYsCSJEmSpEIMWJIkSZJUiAFLkiRJkgoxYEmSJElSIQYsSZIkSSrEgCVJkiRJhRiwJEmSJKmQwe2404iYDswB5gPzMnNsRKwJ/AgYBUwHDszMJ9pRnyRJkiQti3buwdo5M8dk5th6+jPAtZm5KXBtPS1JkiRJXaOTugjuC0ysr08E9mtfKZIkSZK09NoVsBL4RURMiYhj6nnrZObD9fW/Aess6oYRcUxETI6IybNmzWpFrZIkSZLUL205BgvYKTMfjIi1gWsi4k+NCzMzIyIXdcPMnABMABg7duwi15EkSZKkdmjLHqzMfLD++yjwE2B74JGIWBeg/vtoO2qTJEmSpGXV8oAVEatExKo914FdgbuAy4HD69UOBy5rdW2SJEmS9Eq0o4vgOsBPIqLn/s/PzKsj4lbgwog4EngAOLANtUmSJEnSMmt5wMrM+4BtFjF/NrBLq+uRJEmSpFI6aZh2SZIkSepqBixJkiRJKsSAJUmSJEmFGLAkSZIkqRADliRJkiQVYsCSJEmSpEIMWJIkSZJUiAFLkiRJkgoxYEmSJElSIQYsSZIkSSrEgCVJkiRJhRiwJEmSJKkQA5YkSZIkFWLAkiRJkqRCDFiSJEmSVMjgdhcgSRpYXnzxRWbOnMnzzz/f7lI6wtChQxk5ciRDhgxpdymSpAIMWJKklpo5cyarrroqo0aNIiLaXU5bZSazZ89m5syZjB49ut3lSJIKsIugJKmlnn/+edZaa60BH64AIoK11lrLvXmStBwxYEmSWs5w9Q8+F5K0fDFgSZIkSVIhBixJUtuNHz+eLbfckq233poxY8bw+9//HoBvfvObPPvss8u0zVNOOYXTTjttsfc5ZswYxowZw6BBgxZeP+OMMzjqqKO4++67l3nbkqSBy0EuJEltddNNN3HFFVdw2223seKKK/LYY4/xwgsvAFXAeu9738vKK69c/H5POukkTjrpJACGDRvG1KlTi9/HosyfP59Bgwa15L4kSa3nHixJUls9/PDDDB8+nBVXXBGA4cOHs95663HGGWfw0EMPsfPOO7PzzjsDMGnSJLbaaite//rXc+KJJy7cxtVXX80b3vAGttlmG3bZZZeX3cfZZ5/NHnvswXPPPdevmsaNG8fkyZOXetvnnXce22+/PWPGjOGDH/wg8+fPB6oAd8IJJ7DNNttw0003Ld0TJEnqKgYsSVJb7brrrsyYMYPNNtuMj3zkI9xwww0AfOxjH2O99dbj+uuv5/rrr+ehhx7ixBNP5LrrrmPq1KnceuutXHrppcyaNYujjz6aSy65hNtvv52LLrroJds/88wzueKKK7j00ktZaaWVlqq2pdn29OnT+dGPfsRvf/tbpk6dyqBBg/jhD38IwDPPPMMOO+zA7bffzk477fQKni1JUqezi6Akqa2GDRvGlClT+PWvf83111/PQQcdxKmnnsr73//+l6x36623Mm7cOEaMGAHAoYceyo033sigQYN4y1vesvA8UmuuuebC23z/+99ngw024NJLL12mE/nefPPN/d72tddey5QpU9huu+0AeO6551h77bUBGDRoEAcccMBS378kqfsYsCRJbTdo0CDGjRvHuHHj2GqrrZg4ceLLAtay2GqrrZg6dWpTTuTbe9uZyeGHH85//ud/vmzdoUOHetyVJA0QdhGUJLXVn//8Z/7yl78snJ46dSobbbQRAKuuuipz5swBYPvtt+eGG27gscceY/78+UyaNIm3vvWtvPGNb+TGG2/k/vvvB+Dxxx9fuK1tt92W7373u+yzzz489NBDS13b0mx7l1124eKLL+bRRx9duO4DDzyw1PcpSepu7sGSJLXV3Llz+ehHP8qTTz7J4MGD2WSTTZgwYQIAxxxzDLvvvvvCY7FOPfVUdt55ZzKTvfbai3333ReACRMm8K53vYsFCxaw9tprc8011yzc/k477cRpp53GXnvtxTXXXMPw4cP7XduIESOWattf/vKX2XXXXVmwYAFDhgzh29/+9sKwKEkaGCIz213DMhs7dmz2jPLUMU5Zrd0VSFJnOOWpRc6+55572HzzzVtcTGfr8znxM0WSKn18prRTREzJzLG959tFUJIkSZIKMWBJkiRJUiEGLEmSJEkqxIAlSZIkSYUYsCRJkiSpEAOWJEmSJBXiebAkSR1j1GeuLLq96afu1a/1Lr30Uvbff3/uueceXve61y2cP3XqVLbddluuuuoqdt9994XzBw0axFZbbcW8efPYfPPNmThxIiuvvDLDhg1j7ty5RR+DJKm7uAdLkjTgTZo0iZ122olJkyb1a/5KK63E1KlTueuuu3jVq17Fd77znVaWK0nqYAYsSdKANnfuXH7zm99wzjnncMEFFyycn5lcdNFFnHvuuVxzzTU8//zzi7z9m9/8ZqZNm9aqciVJHc6AJUka0C677DJ23313NttsM9Zaay2mTJkCwO9+9ztGjx7NxhtvzLhx47jyypd3X5w3bx5XXXUVW221VavLliR1KAOWJGlAmzRpEgcffDAABx988MLugH3NB3juuecYM2YMY8eOZcMNN+TII49sfeGSpI7kIBeSpAHr8ccf57rrruPOO+8kIpg/fz4RwVe/+lUuueQSLrvsMsaPH09mMnv2bObMmcOqq6668BgsSZJ6cw+WJGnAuvjii3nf+97HAw88wPTp05kxYwajR49m/PjxbL311syYMYPp06fzwAMPcMABB/CTn/yk3SVLkjqce7AkSR2jv8OqlzJp0iROPPHEl8w74IAD+MMf/sD+++//svlnnXUWhx12WJ/be/bZZxk5cuTC6U9+8pN88pOfLFu0JKmjGbAkSQPW9ddf/7J5H/vYxxa57j777MM+++wD0Oe5rhYsWFCuOElSV7KLoCRJkiQVYsCSJEmSpEIMWJIkSZJUiAFLkiRJkgoxYEmSJElSIQYsSZIkSSrEYdolSZ3jlNUKb++pJa4SERx66KGcd955AMybN491112XHXbYgSuuuIJHHnmEI488khkzZvDiiy8yatQofvaznzF9+nQ233xzXvva1y7c1v7777/wZMR33nknW221FQBHHHFEn8O/S5KWLwYsSdKAtsoqq3DXXXfx3HPPsdJKK3HNNdew/vrrL1z+hS98gXe84x0cf/zxANxxxx0Ll2288cZMnTr1Jds7+eSTARg2bNjLlkmSln92EZQkDXh77rknV155JQCTJk3ikEMOWbjs4YcfZuTIkQunt95665bXJ0nqHgYsSdKAd/DBB3PBBRfw/PPPc8cdd7DDDjssXHbsscdy5JFHsvPOOzN+/HgeeuihhcvuvfdexowZw5gxYzj22GPbUbokqcPYRVCSNOBtvfXWTJ8+nUmTJrHnnnu+ZNluu+3Gfffdx9VXX81VV13Ftttuy1133QUsuougJGlgcw+WJEnAPvvsw6c+9amXdA/sseaaa/Ke97yHH/zgB2y33XbceOONbahQktQNDFiSJFGN9HfyyScvHPmvx3XXXcezzz4LwJw5c7j33nvZcMMN21GiJKkL2EVQktQ5+jGserOMHDlykUOpT5kyheOOO47BgwezYMECjjrqKLbbbjumT5/e+iIlSR3PgCVJGtDmzp37snnjxo1j3LhxAHz605/m05/+9MvWGTVq1MJjsfq7XUnS8s8ugpIkSZJUiAFLkiRJkgoxYEmSWi4z211Cx/C5kKTliwFLktRSQ4cOZfbs2QYLqnA1e/Zshg4d2u5SJEmFOMiFJKmlRo4cycyZM5k1a1a7S+kIQ4cOZeTIke0uQ5JUiAFLktRSQ4YMYfTo0e0uQ5Kkpui4LoIRsXtE/DkipkXEZ9pdjyRJkiT1V0cFrIgYBHwb2APYAjgkIrZob1WSJEmS1D8dFbCA7YFpmXlfZr4AXADs2+aaJEmSJKlfOu0YrPWBGQ3TM4EdGleIiGOAY+rJuRHx5xbVpkUbDjzW7iL0MrZL5xl4bfLFaHcFSzLw2qQ72C6dxzbpPAOvTTrzM2WjRc3stIC1RJk5AZjQ7jpUiYjJmTm23XXopWyXzmObdB7bpDPZLp3HNuk8tkln67Qugg8CGzRMj6znSZIkSVLH67SAdSuwaUSMjohXAQcDl7e5JkmSJEnql47qIpiZ8yLiOODnwCDge5n5xzaXpcWzu2Znsl06j23SeWyTzmS7dB7bpPPYJh0sMrPdNUiSJEnScqHTughKkiRJUtcyYElSB4qIjhyPVpLUnfxcaR0DltoiInztdRj/8XaGiFgfIO2/LfWbnymdx8+UzuHnSut5DJZaIiLeDmxJ9Zr7ZpvLERAROwKrA09n5m/qeStk5oK2FjaARcSewNHAv2fmn9pdjyoRsRPQ8wXlR20uR0BE7A78C7ByZn663fXIz5RO5edKe/iLj5ouIvYAvlFP7h4RRzQs8zXYBvWXk4nA3sDHIuJigMxcYJu0R0T8M/DfwLd6fwj6S3D7RMTeVO3yBuDQiDi9zSUNeBGxK/A14B5gh4j4fMMy3ytt4GdKZ/JzpX180aupImIo8CHgc5n5LeDHwOCIeBP4z7eNDgS+mpkfAd4LrBwRv4SFbeI/3tYbDfw4M38VEetHxLsj4kNQdeuwTVovIjYDPg8clZknAp8F1oyIV7e3soErIgYB7wdOz8wLgK8CL0bEu8D3Shv5mdKZ/FxpE7/YqtnmA7OBVSJiO+AzwNuA/4iIa6H659vG+gaqO4EhAJn5QmbuCTwfERfU8+w73Hp/pXqfbAhcBmwLHBwRV4Jt0iYvAv+VmbfU0w8CmwOvbV9JA1dERGbOB+4F1qm7Pv03sDHwkYj4GfheaRM/UzqTnyttYsBSU2Xmi8C1wP7A14FLM/PgzNyF6vPyyLYWOIBExNoNewtvA06IiG0aVjmoXm9Mq2sbqHq1yQxgA6q+8j/KzJMycxzVHt/PtqvGgSwz7wcuh4XHkjwB/B/wVD3vn9tY3oDT8GXwN8A6wIeBn2Xm0Zn5dmBIRHyubQUOMH6mdCY/VzqDAUvFRcTOEXFgz3Rm/hB4D/Bt4IaGVX9P9Quxmiwi9gEuAC6KiE8AdwMnAdf2fPhl5jPAAmCNdtU5kDS0yYV1m6xA1d3pUGDLiFirXvVq4Mm2FDkARcSeEfHBhllz4SV72lcABkXEe4CzImKdVtc40PRuk8z8eWZ+gupHuzsbVv05MKfV9Q1EfqZ0Jj9XOsfgdheg5UtE7AJcAjwVEWtk5ncBMnNeRDwDnBMRzwGvAXYDzm1bsQNE3TXgW1Qhdw2q0RzPAT5SXy6IiAnAq4ExwAPtqXTgWESbbAGcBXwcOAw4BTgqIlYD9gPe3Y46B5p6tMDzgVdHxFqZ+ZWe40ca9p48QzVoz5rA+zPzkXbVOxAsqk0aFr8AHFN/tqwLHEz1nlIT+ZnSmfxc6SwGLJW2NXACcAswMSJoCFlXRMSXqA5QXgk4LDP/3LZKB44Xgd9l5k0AETEZeJZqj+IRVMeVbEEVev81M+9rV6EDSF9tcjrwQeCjwEbAWGC/zPy/dhU6wIymOkD/FuDOOliNrw8GH1Qf//MkMA7Y2/9fLbHINgHIzN9FxP+j+hL/T8B7MvPutlU6cPiZ0pn8XOkgngdLRdUj0qyVmY9FxJupfk05OzPP6rXekPr4LLVARPya6h/vifX0PwEfAJ7s3TZqjcW0yROZ+Z22FjdA1f+/1s7MRyJiE6pjfb6dmV+qlw+mOkj8Kb+ctEY/2iR6BWC1gJ8pncnPlc7hMVgqpueDLjMfA8jMXwOfAI6OiAMiYo+IOLL+IDRctUDDga6HA1tExAkAmfk34E/AW9pV20DVjzZ5a7tqG+jq/1+P1ANaTAPeDBwbER+uR6w7CZhsuGqdfrTJFyJiCNWxPmoyP1M6k58rnccugioi+jhbe2beEBEHA7dSfQC+yV8ZW6MOvD1tcj9wKvDZiFg3Mz8FrEJ1XMOqmemB4S1gm3SmXsdY9Zy3Z3Bm/iUiXkM10MXjwDiHNW6NpWwTf7BrgV6f8/7/6hC2S2eyi6CWWVTntXoNcHdm3tlXyKoD1v8DdrN/fHNFxBbA34HnMvOhRSzfEJgIzAR2oOoff3trqxxYbJPOtKR2aVhvZ+AHwK7+/2ou26TzRMS2wKrAzEUdS+X/r/awXTqfXQS1TCJiN2ASsCNwe0S8Lvs+W/tGwO5+EDZXROxOdSLBI4CrImKP3utk5l8zc2fgOGAH/+E2l23SmfrTLg02BHbx/1dz2Sadp+6C+QvgX4GfR8ThEbFBw/Lw/1fr2S7dwS6CWmoRsS7VcJ8fysxfRsTTwPoRMSczH+y9fmZ+tdU1DjRRnYvnc8BRdbfMacBPojqR8/lQHcvQs5cxM59qZ70DgW3SmfrbLj3rZ+bE9lQ6cNgmnScihlIN5f3+zLyyDsCHAGtExMWZOdP/X61nu3QP92Cp3xr2Tj0CTAHWjIhNqc6x8AHgpog4pNe6aqKG53k2cA/wFEBm/i9wLdU5SXbq+XKyqC6cKss26UxL2y5qPtukc2Xm81SnJNi1PvbtamAC8Aaq0xT0eey1msd26R4eg6V+i4iVMvO5+voJwFZU5x+5KDPHR8Q7gTOozg/zx/ZVOnD0tEk9gtA3gflU54v55/r6PVQnGNwXmOsXleazTTqT7dJ5bJPOFhFvpDoZ7ZXAr+o9I3sBZwJvycwZbS1wgLJduoNdBNUvdZ/fj0fELcADmfn1ev7nqT4EycyfRsR+VCd8NGA1Wa82uY9qT+KnqH7JGgZ8LDNfiIjt8ctJS9gmncl26Ty2SeeJiB2B54Cp9fN9F7BHfYmIuKHulvYuYDjgF/kWsF26k3uwtET1aDUXAv9G9Sb/HFXIOrQeIXAscDGwGdV5Yt6RmX9tV70DwSLa5PPA7Zn5kXr54MycFxFHUP0CvF9mPtmuegcC26Qz2S6dxzbpPBHxNuCXwK+ATwJ3Zub8iFidKvy+mmrUutuAk4GxmTmzLcUOILZL9zJgaYkiYkvghMw8op5eAfg91Rv6I8C3gRWBTagGvnDvVZMtpk3+rw6+QdWt5r+APTPzzvZVOzDYJp3Jduk8tklniYgVgSOBWVSnXvkX4ItUX+bnRcQqVJ/v76Lau/i/mXlXu+odKGyX7uYgF+qP+cC6EfFaWHhQ/g7AFsBBVCHraDz2qpX6apP1IuIjdTeCO4Ed/XLSMrZJZ7JdOo9t0kEy8+/ApcDlWY36ewfV3pBt6r2Jz2Tm7Zl5MnCiX+Jbw3bpbgYsLVFm/gn4NdW5Sdap5y0ATgdGZzUU6Lx0ONCWWUyb/Bewej19rwe7to5t0plsl85jm3SerE7s/EJ9/QtUAffzwNoR8f6I+FC96vw2lTgg2S7dy4Cll+g9vHrPdGZ+BbgI+F1EbFUvHglsFxFDHJa9eZahTba3TZrLNulMtkvnsU06T1/PbT0a3ZD6+ueB64Ebqbql/bpnnVbVOdDYLssXRxFUbwE0vlGj3hX9YmaeGNUJIMdHxLPA1sCBmfliWyodOGyTzmObdCbbpfPYJp3nJW1SHwPXsxdxENDz/D9MNSrdjpl5d6uLHIBsl+WIg1xooYjYhWrEpr8Af8zMnzQseyvwkcw8KCJGU+39fMEuHM1lm3Qe26Qz2S6dxzbpPEtokzdRjUz3Aar2OBT4tcf2NJ/tsvyxi6CAheckOQO4CZgDHBARr6uXbQ58DZhUrz7d/vHNZ5t0HtukM9kuncc26Tz9aJNvAN/PzLmZ+TQwwS/xzWe7LJ/sIigiYjjVLyMfy8xr64OOdwTWBf4EPA0cl5m3RkTY17f5bJPOY5t0Jtul89gmnWcp22SFevAqB05oMttl+eUeLJGZj1GN3nR7/QZ+BJhGdc4FMvPBzLy1nTUONLZJ57FNOpPt0nlsk86zlG1i4G0R22X55R6sASwiVs7MZwEy88Zei58F1qjXeycwJzN/5S+NzWWbdB7bpDPZLp3HNuk8tklnsl2Wf+7BGqDqN+1vI2L7enqF+u+gepX7gPsi4h1U51ywb3yT2SadxzbpTLZL57FNOo9t0plsl4HBUQQHoIh4PXAx8DtgG+DDmXlLY1/4iNib6hwldwBHekBlc9kmncc26Uy2S+exTTqPbdKZbJeBwz1YA9Ms4CuZeQTwP8DZEbF9ZmbDLygvUo1mc6hv7pawTTqPbdKZbJfOY5t0HtukM9kuA4R7sAaoqE70OK++/iHgw8Axmfn7iNgwM/8aEevUB1yqBWyTzmObdCbbpfPYJp3HNulMtsvAYMASsPBNfjjVeRg2Bt6bmXPaW9XAZpt0HtukM9kuncc26Ty2SWeyXZZPBiwtFBEXA28F3p6Zt7e7Htkmncg26Uy2S+exTTqPbdKZbJflj8O0C4CI2AXYAnhbZt7Z7npkm3Qi26Qz2S6dxzbpPLZJZ7Jdlk/uwRIAEbEu8KrMfKDdtahim3Qe26Qz2S6dxzbpPLZJZ7Jdlk8GLEmSJEkqxGHaJUmSJKkQA5YkSZIkFWLAkiRJkqRCDFiSJEmSVIgBS5IkSZIKMWBJkpYbETE/IqZGxB8j4vaIOCEiFvtZFxGjIuI9rapRkrR8M2BJkpYnz2XmmMzcEngHsAdw8hJuMwowYEmSivA8WJKk5UZEzM3MYQ3TrwFuBYYDGwE/AFapFx+Xmb+LiJuBzYH7gYnAGcCpwDhgReDbmfndlj0ISVJXM2BJkpYbvQNWPe9J4LXAHGBBZj4fEZsCkzJzbESMAz6VmXvX6x8DrJ2ZX46IFYHfAv+amfe38KFIkrrU4HYXIElSiwwBzoyIMcB8YLM+1tsV2Doi3l1PrwZsSrWHS5KkxTJgSZKWW3UXwfnAo1THYj0CbEN1DPLzfd0M+Ghm/rwlRUqSlisOciFJWi5FxAjgO8CZWfWHXw14ODMXAO8DBtWrzgFWbbjpz4EPR8SQejubRcQqSJLUD+7BkiQtT1aKiKlU3QHnUQ1q8Y162X8Dl0TEYcDVwDP1/DuA+RFxO3Au8C2qkQVvi4gAZgH7taZ8SVK3c5ALSZIkSSrELoKSJEmSVIgBS5IkSZIKMWBJkiRJUiEGLEmSJEkqxIAlSZIkSYUYsCRJkiSpEAOWJEmSJBXy/wEpNXHlcWxaIwAAAABJRU5ErkJggg==\n",
       "datasetInfos": [],
       "metadata": {},
       "removedWidgets": [],
       "type": "image"
      }
     },
     "output_type": "display_data"
    }
   ],
   "source": [
    "import matplotlib.pyplot as plt\n",
    "import pandas as pd\n",
    "\n",
    "# Convert PySpark DataFrame to Pandas DataFrame if needed\n",
    "pandas_df = df.toPandas()\n",
    "\n",
    "# Ensure 'timestamp' is in datetime format\n",
    "pandas_df['timestamp'] = pd.to_datetime(pandas_df['timestamp'])\n",
    "\n",
    "# Extract date from the timestamp\n",
    "pandas_df['date'] = pandas_df['timestamp'].dt.date  # Extract date\n",
    "\n",
    "# Calculate the average price by date and ticker\n",
    "avg_price_by_day_ticker = pandas_df.groupby(['date', 'ticker'])['price'].mean().reset_index()\n",
    "\n",
    "# Create a bar chart for each ticker\n",
    "tickers = avg_price_by_day_ticker['ticker'].unique()\n",
    "\n",
    "plt.figure(figsize=(12, 8))\n",
    "\n",
    "# Plot bars for each ticker\n",
    "for ticker in tickers:\n",
    "    ticker_data = avg_price_by_day_ticker[avg_price_by_day_ticker['ticker'] == ticker]\n",
    "    plt.bar(ticker_data['date'], ticker_data['price'], label=ticker)\n",
    "\n",
    "plt.title('Average Stock Price by Day for Different Tickers')\n",
    "plt.xlabel('Date')\n",
    "plt.ylabel('Average Price')\n",
    "plt.xticks(rotation=45)\n",
    "plt.legend(title='Stock Ticker')\n",
    "plt.tight_layout()\n",
    "\n",
    "# Show the bar chart\n",
    "plt.show()\n"
   ]
  },
  {
   "cell_type": "code",
   "execution_count": 0,
   "metadata": {
    "application/vnd.databricks.v1+cell": {
     "cellMetadata": {
      "byteLimit": 2048000,
      "rowLimit": 10000
     },
     "inputWidgets": {},
     "nuid": "34a909cf-e5d4-4210-8236-5dcb6f0a68c9",
     "showTitle": false,
     "tableResultSettingsMap": {},
     "title": ""
    }
   },
   "outputs": [
    {
     "output_type": "stream",
     "name": "stdout",
     "output_type": "stream",
     "text": [
      "  ticker       price           timestamp\n0   MSFT  153.729996 2024-12-09 22:08:57\n1   AAPL  210.369995 2024-12-09 22:04:52\n2   AAPL  438.109985 2024-12-09 23:39:59\n3   AAPL  405.399994 2024-12-10 11:59:23\n4   AAPL  330.880005 2024-12-09 23:34:28\n"
     ]
    }
   ],
   "source": [
    "from pyspark.sql import SparkSession\n",
    "import pandas as pd\n",
    "import matplotlib.pyplot as plt\n",
    "\n",
    "# Initialize Spark session\n",
    "spark = SparkSession.builder.appName(\"DeltaTableRead\").getOrCreate()\n",
    "\n",
    "# Path to the Delta table\n",
    "delta_table_path = \"/mnt/delta/stock_value/\"\n",
    "\n",
    "# Read the Delta table\n",
    "df = spark.read.format(\"delta\").load(delta_table_path)\n",
    "\n",
    "# Convert to Pandas DataFrame for easier plotting\n",
    "pandas_df = df.toPandas()\n",
    "\n",
    "# Check the first few rows of the dataframe\n",
    "print(pandas_df.head())\n",
    "\n",
    "#\n",
    "\n"
   ]
  },
  {
   "cell_type": "code",
   "execution_count": 0,
   "metadata": {
    "application/vnd.databricks.v1+cell": {
     "cellMetadata": {
      "byteLimit": 2048000,
      "rowLimit": 10000
     },
     "inputWidgets": {},
     "nuid": "2e164ca8-312b-48a7-bd18-c156f7dfd59c",
     "showTitle": false,
     "tableResultSettingsMap": {},
     "title": ""
    }
   },
   "outputs": [
    {
     "output_type": "display_data",
     "data": {
      "image/png": "[encoded data removed]"
     },
     "metadata": {
      "application/vnd.databricks.v1+output": {
       "addedWidgets": {},
       "arguments": {},
       "data": "data:image/png;base64,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\n",
       "datasetInfos": [],
       "metadata": {},
       "removedWidgets": [],
       "type": "image"
      }
     },
     "output_type": "display_data"
    }
   ],
   "source": [
    "# 1. Average Price over time (Line chart)\n",
    "plt.figure(figsize=(10, 6))\n",
    "plt.plot(pandas_df['timestamp'], pandas_df['price'], label='Stock Price', color='blue')\n",
    "plt.title('Average Stock Price Over Time')\n",
    "plt.xlabel('Timestamp')\n",
    "plt.ylabel('Price')\n",
    "plt.xticks(rotation=45)\n",
    "plt.grid(True)\n",
    "plt.legend()\n",
    "plt.tight_layout()\n",
    "\n",
    "# Show the plot for Average Price\n",
    "plt.show()"
   ]
  },
  {
   "cell_type": "code",
   "execution_count": 0,
   "metadata": {
    "application/vnd.databricks.v1+cell": {
     "cellMetadata": {
      "byteLimit": 2048000,
      "rowLimit": 10000
     },
     "inputWidgets": {},
     "nuid": "2c7f3301-14f5-4d9b-985e-45d007e2af63",
     "showTitle": false,
     "tableResultSettingsMap": {},
     "title": ""
    }
   },
   "outputs": [
    {
     "output_type": "stream",
     "name": "stdout",
     "output_type": "stream",
     "text": [
      "Min Price for Today (2024-12-10): 100.06999969482422\nMax Price for Today (2024-12-10): 499.9599914550781\nMedian Price for Today (2024-12-10): 299.8999938964844\n"
     ]
    }
   ],
   "source": [
    "from pyspark.sql import SparkSession\n",
    "import pandas as pd\n",
    "\n",
    "# Initialize Spark session\n",
    "spark = SparkSession.builder.appName(\"DeltaTableRead\").getOrCreate()\n",
    "\n",
    "# Path to the Delta table\n",
    "delta_table_path = \"/mnt/delta/stock_value/\"\n",
    "\n",
    "# Read the Delta table\n",
    "df = spark.read.format(\"delta\").load(delta_table_path)\n",
    "\n",
    "# Convert to Pandas DataFrame for easier handling\n",
    "pandas_df = df.toPandas()\n",
    "\n",
    "# Ensure 'timestamp' is in datetime format and 'price' is numeric\n",
    "pandas_df['timestamp'] = pd.to_datetime(pandas_df['timestamp'], errors='coerce')  # Convert to datetime\n",
    "pandas_df['price'] = pd.to_numeric(pandas_df['price'], errors='coerce')  # Convert price to numeric\n",
    "\n",
    "# Get today's date\n",
    "today_date = pd.to_datetime('today').normalize()\n",
    "\n",
    "# Filter the data for today's date\n",
    "today_data = pandas_df[pandas_df['timestamp'].dt.date == today_date.date()]\n",
    "\n",
    "# Calculate Min, Max, and Median for today\n",
    "min_price = today_data['price'].min()\n",
    "max_price = today_data['price'].max()\n",
    "median_price = today_data['price'].median()\n",
    "\n",
    "# Print the results\n",
    "print(f\"Min Price for Today ({today_date.date()}): {min_price}\")\n",
    "print(f\"Max Price for Today ({today_date.date()}): {max_price}\")\n",
    "print(f\"Median Price for Today ({today_date.date()}): {median_price}\")\n"
   ]
  },
  {
   "cell_type": "markdown",
   "metadata": {
    "application/vnd.databricks.v1+cell": {
     "cellMetadata": {
      "byteLimit": 2048000,
      "rowLimit": 10000
     },
     "inputWidgets": {},
     "nuid": "396829ec-e620-455b-a8cd-0e185005347f",
     "showTitle": false,
     "tableResultSettingsMap": {},
     "title": ""
    }
   },
   "source": [
    "**Step 7: Batch Processing for Daily Summary**"
   ]
  },
  {
   "cell_type": "code",
   "execution_count": 0,
   "metadata": {
    "application/vnd.databricks.v1+cell": {
     "cellMetadata": {
      "byteLimit": 2048000,
      "rowLimit": 10000
     },
     "inputWidgets": {},
     "nuid": "38c681de-8e65-4913-8bfc-0ba7f6bd8f52",
     "showTitle": false,
     "tableResultSettingsMap": {},
     "title": ""
    }
   },
   "outputs": [],
   "source": [
    "# Define the schema for the daily summary table\n",
    "daily_summary_schema = StructType([\n",
    "    StructField(\"date\", StringType(), True),\n",
    "    StructField(\"ticker\", StringType(), True),\n",
    "    StructField(\"avg_price\", DoubleType(), True),\n",
    "    StructField(\"max_price\", DoubleType(), True),\n",
    "    StructField(\"total_volume\", DoubleType(), True),\n",
    "    StructField(\"total_price\", DoubleType(), True)\n",
    "])\n",
    "\n",
    "# Read stock price data from the Delta table\n",
    "df = spark.read.format(\"delta\").load(\"/mnt/delta/stock_value\")\n",
    "\n",
    "# Convert timestamps to date (will aggregate by date)\n",
    "df = df.withColumn(\"date\", to_date(col(\"timestamp\")))\n",
    "\n",
    "# Group by date and symbol to calculate daily summary statistics\n",
    "daily_summary = df.groupBy(\"date\", \"ticker\") \\\n",
    "    .agg(\n",
    "        avg(\"price\").alias(\"avg_price\"),\n",
    "        max(\"price\").alias(\"max_price\"),\n",
    "\n",
    "        sum(\"price\").alias(\"total_price\")  # Assuming you want sum as total value; replace if needed\n",
    "    )\n",
    "\n",
    "# Write daily summary to a Delta table (append mode)\n",
    "daily_summary.write.format(\"delta\").mode(\"append\").save(\"/mnt/delta/daily_summary\")"
   ]
  },
  {
   "cell_type": "code",
   "execution_count": 0,
   "metadata": {
    "application/vnd.databricks.v1+cell": {
     "cellMetadata": {
      "byteLimit": 2048000,
      "rowLimit": 10000
     },
     "inputWidgets": {},
     "nuid": "301fec3c-b752-4ca8-bbc7-daec755e7e89",
     "showTitle": false,
     "tableResultSettingsMap": {},
     "title": ""
    }
   },
   "outputs": [],
   "source": [
    "# Convert the PySpark DataFrame to Pandas DataFrame\n",
    "daily_summary_pandas = daily_summary.toPandas()"
   ]
  },
  {
   "cell_type": "markdown",
   "metadata": {
    "application/vnd.databricks.v1+cell": {
     "cellMetadata": {
      "byteLimit": 2048000,
      "rowLimit": 10000
     },
     "inputWidgets": {},
     "nuid": "f9743b38-7fca-4738-8680-0d3b2cb4b1e8",
     "showTitle": false,
     "tableResultSettingsMap": {},
     "title": ""
    }
   },
   "source": []
  }
 ],
 "metadata": {
  "application/vnd.databricks.v1+notebook": {
   "dashboards": [],
   "environmentMetadata": {
    "base_environment": "",
    "client": "1"
   },
   "language": "python",
   "notebookMetadata": {
    "mostRecentlyExecutedCommandWithImplicitDF": {
     "commandId": -1,
     "dataframes": [
      "_sqldf"
     ]
    },
    "pythonIndentUnit": 4
   },
   "notebookName": "code",
   "widgets": {}
  },
  "language_info": {
   "name": "python"
  }
 },
 "nbformat": 4,
 "nbformat_minor": 0
}
